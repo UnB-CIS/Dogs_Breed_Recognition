{
 "cells": [
  {
   "cell_type": "markdown",
   "metadata": {
    "id": "ypObpKGHd_FB"
   },
   "source": [
    "# Classificação de Raças"
   ]
  },
  {
   "cell_type": "markdown",
   "metadata": {
    "id": "H3FDEye4kWvn"
   },
   "source": [
    "### Importing libraries"
   ]
  },
  {
   "cell_type": "code",
   "execution_count": null,
   "metadata": {
    "id": "UDAjnU6Kjp4R"
   },
   "outputs": [],
   "source": [
    "import tensorflow as tf\n",
    "from tensorflow import keras\n",
    "from tensorflow.keras import layers\n",
    "import pathlib as pl\n",
    "import cv2"
   ]
  },
  {
   "cell_type": "markdown",
   "metadata": {
    "id": "4dK64SphkGLg"
   },
   "source": [
    "### Loading the data"
   ]
  },
  {
   "cell_type": "code",
   "execution_count": null,
   "metadata": {
    "id": "dlJgbCGod0Ke"
   },
   "outputs": [],
   "source": [
    "from zipfile import ZipFile\n",
    "\n",
    "# ajuste o path de acordo com a localizacao do dataset\n",
    "data_path = '/content/drive/MyDrive/CIS/Dog_breed_classification/data.zip'\n",
    "\n",
    "with ZipFile(data_path, 'r') as zip:\n",
    "    zip.extractall()"
   ]
  },
  {
   "cell_type": "code",
   "execution_count": null,
   "metadata": {
    "id": "m4WeKZiakFIr"
   },
   "outputs": [],
   "source": [
    "import os\n",
    "import shutil\n",
    "from sklearn.model_selection import train_test_split\n",
    "\n",
    "# Caminho para a pasta com as imagens originais\n",
    "base_path = \"/content/data\"\n",
    "output_path = \"stanford-dogs-dataset-split/\"\n",
    "train_folder = os.path.join(output_path, \"train\")\n",
    "test_folder = os.path.join(output_path, \"test\")\n",
    "\n",
    "# Criando as pastas de saída\n",
    "os.makedirs(train_folder, exist_ok=True)\n",
    "os.makedirs(test_folder, exist_ok=True)\n",
    "\n",
    "# Iterar sobre os subdiretórios de raças\n",
    "for breed in os.listdir(base_path):\n",
    "    breed_path = os.path.join(base_path, breed)\n",
    "    if os.path.isdir(breed_path):  # Verifica se é uma pasta\n",
    "        images = [img for img in os.listdir(breed_path) if img.lower().endswith(('.png', '.jpg', '.jpeg'))]\n",
    "\n",
    "        # Divide as imagens em treino e teste (80%-20%)\n",
    "        train_images, test_images = train_test_split(images, test_size=0.2, random_state=42)\n",
    "\n",
    "        # Criando as pastas específicas para cada raça\n",
    "        train_breed_folder = os.path.join(train_folder, breed)\n",
    "        test_breed_folder = os.path.join(test_folder, breed)\n",
    "        os.makedirs(train_breed_folder, exist_ok=True)\n",
    "        os.makedirs(test_breed_folder, exist_ok=True)\n",
    "\n",
    "        # Movendo os arquivos para treino\n",
    "        for img in train_images:\n",
    "            shutil.copy(os.path.join(breed_path, img), os.path.join(train_breed_folder, img))\n",
    "\n",
    "        # Movendo os arquivos para teste\n",
    "        for img in test_images:\n",
    "            shutil.copy(os.path.join(breed_path, img), os.path.join(test_breed_folder, img))"
   ]
  },
  {
   "cell_type": "markdown",
   "metadata": {
    "id": "WS9ZLOuN-qjS"
   },
   "source": [
    "### Detecting a dog"
   ]
  }
 ],
 "metadata": {
  "colab": {
   "provenance": []
  },
  "kernelspec": {
   "display_name": "Python 3",
   "name": "python3"
  },
  "language_info": {
   "name": "python"
  }
 },
 "nbformat": 4,
 "nbformat_minor": 0
}
